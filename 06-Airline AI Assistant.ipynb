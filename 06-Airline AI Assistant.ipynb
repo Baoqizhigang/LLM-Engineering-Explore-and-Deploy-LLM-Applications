{
 "cells": [
  {
   "cell_type": "markdown",
   "id": "f1d16971-b3ab-41af-8956-246c6801b904",
   "metadata": {},
   "source": [
    "### **Key Libraries:**\n",
    "* **os and json:** Standard Python libraries for managing environment variables and handling JSON data.\n",
    "* **dotenv:** Loads environment variables from a .env file, allowing secure API key handling.\n",
    "* **OpenAI:** Provides the OpenAI API’s client for interacting with language models.\n",
    "* **Gradio:** A framework for creating web interfaces for ML models, useful for quick and user-friendly AI demos."
   ]
  },
  {
   "cell_type": "code",
   "execution_count": 2,
   "id": "f6187b01-ae85-4660-8610-80d0f57277bb",
   "metadata": {},
   "outputs": [],
   "source": [
    "import os\n",
    "import json\n",
    "from dotenv import load_dotenv\n",
    "from openai import OpenAI\n",
    "import gradio as gr"
   ]
  },
  {
   "cell_type": "code",
   "execution_count": 3,
   "id": "e9813b5a-c894-4a36-998b-01cc659f5136",
   "metadata": {},
   "outputs": [],
   "source": [
    "# Initialization\n",
    "\n",
    "load_dotenv()\n",
    "os.environ[\"OPENAI_API_KEY\"] = os.getenv(\"OPENAI_API_KEY\",\"your-key-if-not-using-env\")\n",
    "MODEL = \"gpt-4o-mini\"\n",
    "openai = OpenAI()"
   ]
  },
  {
   "cell_type": "code",
   "execution_count": 6,
   "id": "559c0f57-be43-4d18-a633-0f4df25a79ba",
   "metadata": {},
   "outputs": [],
   "source": [
    "system_message = \"You are a helpful assistant for an Airline called FlightAI. \"\n",
    "system_message += \"Give short, courteous answers, no more than 1 sentence. \"\n",
    "system_message += \"Always be accurate. If you don't know the answer, say so.\""
   ]
  },
  {
   "cell_type": "code",
   "execution_count": 9,
   "id": "640049c1-19f0-4d6e-bc80-10991b0e22fa",
   "metadata": {},
   "outputs": [
    {
     "name": "stdout",
     "output_type": "stream",
     "text": [
      "* Running on local URL:  http://127.0.0.1:7871\n",
      "\n",
      "To create a public link, set `share=True` in `launch()`.\n"
     ]
    },
    {
     "data": {
      "text/html": [
       "<div><iframe src=\"http://127.0.0.1:7871/\" width=\"100%\" height=\"500\" allow=\"autoplay; camera; microphone; clipboard-read; clipboard-write;\" frameborder=\"0\" allowfullscreen></iframe></div>"
      ],
      "text/plain": [
       "<IPython.core.display.HTML object>"
      ]
     },
     "metadata": {},
     "output_type": "display_data"
    },
    {
     "data": {
      "text/plain": []
     },
     "execution_count": 9,
     "metadata": {},
     "output_type": "execute_result"
    }
   ],
   "source": [
    "def chat(message, history):\n",
    "    messages = [{\"role\" : \"system\", \"content\" : system_message}]\n",
    "    for human, assistant in history:\n",
    "        messages.append({\"role\" : \"user\", \"content\" : human})\n",
    "        messages.append({\"role\" : \"assistant\", \"content\" : assistant})\n",
    "    messages.append({\"role\" : \"user\", \"content\" : message})\n",
    "    response = openai.chat.completions.create(model=MODEL, messages=messages)\n",
    "    return response.choices[0].message.content\n",
    "\n",
    "gr.ChatInterface(fn=chat, type=\"messages\").launch()"
   ]
  },
  {
   "cell_type": "markdown",
   "id": "3355c1b8-e285-4eff-9812-7c8a2935e533",
   "metadata": {},
   "source": [
    "## Tools\n",
    "\n",
    "Tools are an incredibly powerful feature provided by the frontier LLMs.\n",
    "\n",
    "With tools, you can write a function, and have the LLM call that function as part of its response."
   ]
  },
  {
   "cell_type": "code",
   "execution_count": 15,
   "id": "5b242fcc-9191-4c53-862e-6b0a22cd775c",
   "metadata": {},
   "outputs": [],
   "source": [
    "# Let's start by making a useful function\n",
    "\n",
    "ticket_prices = {\"london\": \"$799\", \"paris\": \"$899\", \"tokyo\": \"$1400\", \"berlin\": \"$499\"}\n",
    "\n",
    "def get_ticket_price(destination_city):\n",
    "    print(f\"Tool get_ticket_price called for {destination_city}\")\n",
    "    city = destination_city.lower()\n",
    "    return ticket_prices.get(city, \"Unknown\")"
   ]
  },
  {
   "cell_type": "code",
   "execution_count": 12,
   "id": "ab2db564-d562-4501-a504-ffa1fc51fda8",
   "metadata": {},
   "outputs": [
    {
     "name": "stdout",
     "output_type": "stream",
     "text": [
      "Tool get_ticket_price called for London\n"
     ]
    },
    {
     "data": {
      "text/plain": [
       "'$799'"
      ]
     },
     "execution_count": 12,
     "metadata": {},
     "output_type": "execute_result"
    }
   ],
   "source": [
    "get_ticket_price(\"London\")"
   ]
  },
  {
   "cell_type": "code",
   "execution_count": 16,
   "id": "36cfbe3f-8226-47ea-987b-85fd3ab729dd",
   "metadata": {},
   "outputs": [
    {
     "name": "stdout",
     "output_type": "stream",
     "text": [
      "Tool get_ticket_price called for China\n"
     ]
    },
    {
     "data": {
      "text/plain": [
       "'Unknown'"
      ]
     },
     "execution_count": 16,
     "metadata": {},
     "output_type": "execute_result"
    }
   ],
   "source": [
    "get_ticket_price(\"China\")"
   ]
  },
  {
   "cell_type": "markdown",
   "id": "2768465c-5dd6-412d-812e-534936d5887b",
   "metadata": {},
   "source": [
    "## Getting OpenAI to use our Tool\n",
    "There's some fiddly stuff to allow OpenAI \"to call our tool\"\n",
    "\n",
    "This **price_function** dictionary specifies the function’s details, including its name, description, and parameters. This setup is crucial for an AI model to understand when and how to use the **get_ticket_price** function."
   ]
  },
  {
   "cell_type": "code",
   "execution_count": 21,
   "id": "e3551dc5-2e20-43c7-bba6-f808537e0981",
   "metadata": {},
   "outputs": [],
   "source": [
    "# There's a particular dictionary structure that's required to describe our function:\n",
    "\n",
    "price_function = {\n",
    "    # Identify the function by name, allowing the AI model to recognize and invoke it directly.\n",
    "    \"name\" : \"get_ticket_price \",\n",
    "    # \"description\": Provides an explanation of when and why the function should be used, guiding the model to call it specifically when ticket price information is requested.\n",
    "    \"description\" : \"Get the price of a return ticket to the destination city. Call this whenever you need to know the ticket price, for example when a customer asks 'How much is a ticket to this city'\",\n",
    "    # \"parameters\": Defines the structure of inputs required by the function\n",
    "    \"paramters\" : {\n",
    "        \"type\" : \"object\", # Specify that the parameters will be in object form\n",
    "        #\"properties\":  Lists required fields within the function’s parameters.\n",
    "        \"properties\" : {\n",
    "            # A required field describing the destination for which the user seeks a ticket price.\n",
    "            \"destination_city\" : {\n",
    "            \"type\" : \"string\",\n",
    "            \"description\" : \"The city that the customer wants to travel to\",\n",
    "        },\n",
    "    },\n",
    "    # Ensure that destination_city is provided whenever this function is called, as it’s essential for retrieving the price.\n",
    "    \"required\" : [\"destination_city\"],\n",
    "    # Restrict inputs to just the specified parameters, improving reliability.\n",
    "    \"additionalProperties\" : False\n",
    "    }\n",
    "}"
   ]
  },
  {
   "cell_type": "markdown",
   "id": "888faca5-e5af-4fea-925e-330fb2dc5e16",
   "metadata": {},
   "source": [
    "###  **Significance of this Structure in AI Systems**\n",
    "* **Tool Functionality:** The AI assistant can reference the **tools** list to check available functions and their usage context. It allows the assistant to dynamically choose and call **get_ticket_price** whenever the user asks a price-related question.\n",
    "* **Parameter Validation:** By defining required parameters, the assistant ensures each call is complete and accurate, minimizing user misunderstandings.\n",
    "* **Enhanced User Experience:** Structured descriptions help the model know when each tool is appropriate, improving response accuracy and making interactions smoother for the end user."
   ]
  },
  {
   "cell_type": "code",
   "execution_count": 22,
   "id": "79368b6b-d8d0-4aac-92b1-ba27ae9bdbab",
   "metadata": {},
   "outputs": [],
   "source": [
    "# This list of tools provides a standardized way for an AI model to access various functions it might use during interactions.\n",
    "# \"type\": \"function\": Specifies that each item in the list is a function type, indicating the role of the item.\n",
    "# \"function\": price_function: Associates the actual function dictionary (price_function) with the tool.\n",
    "tools = [{\"role\" : \"function\", \"function\" : price_function}]"
   ]
  },
  {
   "cell_type": "code",
   "execution_count": null,
   "id": "1ada7f82-ed90-4d5b-8535-25d19de106b5",
   "metadata": {},
   "outputs": [],
   "source": []
  },
  {
   "cell_type": "code",
   "execution_count": null,
   "id": "c122d9c7-7094-4500-a4e1-c5f7ce93ea8c",
   "metadata": {},
   "outputs": [],
   "source": []
  },
  {
   "cell_type": "code",
   "execution_count": 13,
   "id": "8d405e93-2c75-4700-bd86-1850a20cee0b",
   "metadata": {},
   "outputs": [
    {
     "ename": "SyntaxError",
     "evalue": "expression expected after dictionary key and ':' (3879908025.py, line 1)",
     "output_type": "error",
     "traceback": [
      "\u001b[1;36m  Cell \u001b[1;32mIn[13], line 1\u001b[1;36m\u001b[0m\n\u001b[1;33m    ({\"role\" : \"\", \"\" : })    [{\"role\" : \"\", \"\" : }]\u001b[0m\n\u001b[1;37m                      ^\u001b[0m\n\u001b[1;31mSyntaxError\u001b[0m\u001b[1;31m:\u001b[0m expression expected after dictionary key and ':'\n"
     ]
    }
   ],
   "source": [
    " ({\"role\" : \"\", \"\" : })    [{\"role\" : \"\", \"\" : }]"
   ]
  }
 ],
 "metadata": {
  "kernelspec": {
   "display_name": "Python 3 (ipykernel)",
   "language": "python",
   "name": "python3"
  },
  "language_info": {
   "codemirror_mode": {
    "name": "ipython",
    "version": 3
   },
   "file_extension": ".py",
   "mimetype": "text/x-python",
   "name": "python",
   "nbconvert_exporter": "python",
   "pygments_lexer": "ipython3",
   "version": "3.11.7"
  }
 },
 "nbformat": 4,
 "nbformat_minor": 5
}
